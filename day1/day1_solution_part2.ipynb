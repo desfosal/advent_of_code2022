{
 "cells": [
  {
   "cell_type": "code",
   "execution_count": null,
   "id": "74490315-1f99-4dbc-b915-7b0e6d9af014",
   "metadata": {},
   "outputs": [],
   "source": []
  },
  {
   "cell_type": "code",
   "execution_count": 10,
   "id": "d92bddb5-2ef0-4337-a021-8e1e9b8469f3",
   "metadata": {},
   "outputs": [],
   "source": [
    "file1 = open('input_day_1.txt', 'r')\n",
    "lines = file1.readlines()\n",
    "\n"
   ]
  },
  {
   "cell_type": "code",
   "execution_count": 11,
   "id": "7d72e8d1-526a-4cd6-90d9-b6ca3277926f",
   "metadata": {},
   "outputs": [],
   "source": [
    "best_elf = -1\n",
    "best_elf_calories = -1\n",
    "most_calories = -1\n",
    "\n",
    "top_3 = [-1,-1,-1] # position 0 is the best, position 1 is second best, etc...\n",
    "top_3_calories = [-1,-1,-1] # position 0 is the best, position 1 is second best, etc...\n",
    "\n",
    "current_elf = 1 \n",
    "current_elf_calories = 0"
   ]
  },
  {
   "cell_type": "code",
   "execution_count": 12,
   "id": "a0aab316",
   "metadata": {},
   "outputs": [],
   "source": [
    "def updatePodium(elf_number,elf_calories,top_3,top_3_calories):\n",
    "\n",
    "    if elf_calories > top_3_calories[0]:\n",
    "\n",
    "        top_3_calories[2] = top_3_calories[1]\n",
    "        top_3_calories[1] = top_3_calories[0]\n",
    "        top_3_calories[0] = elf_calories\n",
    "\n",
    "        top_3[2] = top_3[1]\n",
    "        top_3[1] = top_3[0]\n",
    "        top_3[0] = elf_number\n",
    "\n",
    "    elif elf_calories > top_3_calories[1]:\n",
    "\n",
    "        top_3_calories[2] = top_3_calories[1]\n",
    "        top_3_calories[1] = elf_calories\n",
    "\n",
    "        top_3[2] = top_3[1]\n",
    "        top_3[1] = elf_number\n",
    "\n",
    "    elif elf_calories > top_3_calories[2]:\n",
    "\n",
    "        top_3_calories[2] = elf_calories\n",
    "        top_3[2] = elf_number\n"
   ]
  },
  {
   "cell_type": "code",
   "execution_count": 13,
   "id": "f994d442-81d4-42f4-aa94-0cba2b4d6a77",
   "metadata": {},
   "outputs": [],
   "source": [
    "\n",
    "\n",
    "for current_line in lines:\n",
    "    \n",
    "    if current_line==\"\\n\":\n",
    "\n",
    "        updatePodium(current_elf,current_elf_calories,top_3,top_3_calories)\n",
    "\n",
    "        current_elf = current_elf + 1\n",
    "        #print(\"next elf! its number is : \",current_elf)\n",
    "        \n",
    "        current_elf_calories = 0\n",
    "        \n",
    "    else:\n",
    "        snack_calories = int(current_line)\n",
    "        current_elf_calories = current_elf_calories + snack_calories\n",
    "        #print(\"current elf : \",current_elf,\"current elf calories : \",current_elf_calories)\n",
    "    "
   ]
  },
  {
   "cell_type": "code",
   "execution_count": 15,
   "id": "1961482c-4710-40fb-b3cb-4eed043bf15f",
   "metadata": {},
   "outputs": [
    {
     "name": "stdout",
     "output_type": "stream",
     "text": [
      "best elf : [29, 16, 115] his calories :  [71300, 69249, 69142]\n"
     ]
    }
   ],
   "source": [
    "print(\"best elf :\",top_3,\"his calories : \",top_3_calories)"
   ]
  },
  {
   "cell_type": "code",
   "execution_count": 16,
   "id": "27437f88",
   "metadata": {},
   "outputs": [
    {
     "data": {
      "text/plain": [
       "209691"
      ]
     },
     "execution_count": 16,
     "metadata": {},
     "output_type": "execute_result"
    }
   ],
   "source": [
    "sum(top_3_calories)"
   ]
  }
 ],
 "metadata": {
  "kernelspec": {
   "display_name": "Python 3.9.12 ('base')",
   "language": "python",
   "name": "python3"
  },
  "language_info": {
   "codemirror_mode": {
    "name": "ipython",
    "version": 3
   },
   "file_extension": ".py",
   "mimetype": "text/x-python",
   "name": "python",
   "nbconvert_exporter": "python",
   "pygments_lexer": "ipython3",
   "version": "3.9.12"
  },
  "vscode": {
   "interpreter": {
    "hash": "d157373d6ca2074cb78445d77aa80b941215a0a52746b3c7ca913a094b599ea0"
   }
  }
 },
 "nbformat": 4,
 "nbformat_minor": 5
}
