{
 "cells": [
  {
   "cell_type": "code",
   "execution_count": null,
   "id": "74490315-1f99-4dbc-b915-7b0e6d9af014",
   "metadata": {},
   "outputs": [],
   "source": []
  },
  {
   "cell_type": "code",
   "execution_count": 1,
   "id": "d92bddb5-2ef0-4337-a021-8e1e9b8469f3",
   "metadata": {},
   "outputs": [],
   "source": [
    "file1 = open('input_day_1.txt', 'r')\n",
    "lines = file1.readlines()\n",
    "\n"
   ]
  },
  {
   "cell_type": "code",
   "execution_count": null,
   "id": "7d72e8d1-526a-4cd6-90d9-b6ca3277926f",
   "metadata": {},
   "outputs": [],
   "source": [
    "best_elf = -1\n",
    "best_elf_calories = -1\n",
    "most_calories = -1\n",
    "\n",
    "current_elf = 1 "
   ]
  },
  {
   "cell_type": "code",
   "execution_count": 2,
   "id": "f994d442-81d4-42f4-aa94-0cba2b4d6a77",
   "metadata": {},
   "outputs": [
    {
     "name": "stdout",
     "output_type": "stream",
     "text": [
      "empty!\n",
      "empty!\n",
      "empty!\n",
      "empty!\n",
      "empty!\n",
      "empty!\n",
      "empty!\n",
      "empty!\n",
      "empty!\n",
      "got it\n",
      "1\n",
      "empty!\n",
      "empty!\n"
     ]
    }
   ],
   "source": [
    "\n",
    "\n",
    "for current_line in lines[0:12]:\n",
    "    calories = int(current_line)\n",
    "    #print(test)\n",
    "    if current_line==\"\\n\":\n",
    "        print(\"got it\")\n",
    "        print(len(current_line))\n",
    "        \n",
    "    else:\n",
    "        print(\"empty!\")\n",
    "    "
   ]
  },
  {
   "cell_type": "code",
   "execution_count": null,
   "id": "1961482c-4710-40fb-b3cb-4eed043bf15f",
   "metadata": {},
   "outputs": [],
   "source": []
  }
 ],
 "metadata": {
  "kernelspec": {
   "display_name": "Python 3 (ipykernel)",
   "language": "python",
   "name": "python3"
  },
  "language_info": {
   "codemirror_mode": {
    "name": "ipython",
    "version": 3
   },
   "file_extension": ".py",
   "mimetype": "text/x-python",
   "name": "python",
   "nbconvert_exporter": "python",
   "pygments_lexer": "ipython3",
   "version": "3.9.12"
  }
 },
 "nbformat": 4,
 "nbformat_minor": 5
}
