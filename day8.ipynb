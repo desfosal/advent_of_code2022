{
 "cells": [
  {
   "cell_type": "code",
   "execution_count": null,
   "metadata": {
    "colab": {
     "base_uri": "https://localhost:8080/"
    },
    "executionInfo": {
     "elapsed": 140,
     "status": "ok",
     "timestamp": 1670624451439,
     "user": {
      "displayName": "Alexandre Desfossés",
      "userId": "05952546148031209930"
     },
     "user_tz": 300
    },
    "id": "Uc6DFc-kR0h6",
    "outputId": "5744b080-665f-4ec9-e8b1-6eeb96143c6a"
   },
   "outputs": [
    {
     "ename": "",
     "evalue": "",
     "output_type": "error",
     "traceback": [
      "\u001b[1;31mLes cellules en cours d’exécution avec c:\\Program Files\\Python311\\python.exe nécessitent ipykernel package.\n",
      "\u001b[1;31mExécutez la commande suivante pour installer 'ipykernel' dans l’environnement Python. \n",
      "\u001b[1;31mCommande : '\"c:/Program Files/Python311/python.exe\" -m pip install ipykernel -U --user --force-reinstall'"
     ]
    }
   ],
   "source": [
    "import numpy as np\n",
    "\n",
    "file1 = open('input_day8.txt', 'r')\n",
    "#file1 = open('input_day8_small.txt', 'r')\n",
    "lines = file1.readlines()\n",
    "stripped_lines = []"
   ]
  },
  {
   "cell_type": "code",
   "execution_count": null,
   "metadata": {
    "colab": {
     "base_uri": "https://localhost:8080/"
    },
    "executionInfo": {
     "elapsed": 140,
     "status": "ok",
     "timestamp": 1670624451439,
     "user": {
      "displayName": "Alexandre Desfossés",
      "userId": "05952546148031209930"
     },
     "user_tz": 300
    },
    "id": "Uc6DFc-kR0h6",
    "outputId": "5744b080-665f-4ec9-e8b1-6eeb96143c6a"
   },
   "outputs": [],
   "source": [
    "for line in lines:\n",
    "  stripped_line = line.strip()\n",
    "  stripped_lines.append(stripped_line)\n",
    "\n",
    "forest_size = len(stripped_lines)\n",
    "heights = np.zeros((forest_size,forest_size))\n",
    "\n",
    "for line_number in range(forest_size):\n",
    "  for column_number in range(forest_size):\n",
    "    heights[line_number,column_number] =int(stripped_lines[line_number][column_number])"
   ]
  },
  {
   "cell_type": "code",
   "execution_count": null,
   "metadata": {
    "colab": {
     "base_uri": "https://localhost:8080/"
    },
    "executionInfo": {
     "elapsed": 140,
     "status": "ok",
     "timestamp": 1670624451439,
     "user": {
      "displayName": "Alexandre Desfossés",
      "userId": "05952546148031209930"
     },
     "user_tz": 300
    },
    "id": "Uc6DFc-kR0h6",
    "outputId": "5744b080-665f-4ec9-e8b1-6eeb96143c6a"
   },
   "outputs": [],
   "source": [
    "number_of_visible_trees = 0\n",
    "\n",
    "def visible_from_right(heights,line_number,column_number):\n",
    "\n",
    "  visible = True\n",
    "  tree_height = heights[line_number,column_number]\n",
    " # print(\"current tree height : \",tree_height)\n",
    "  #print(\"range : \",(column_number+1,forest_size))\n",
    "  for column in range(column_number+1,forest_size):\n",
    "    #print(\"considering column :\",column)\n",
    "    #print(\"neighbor  line,column= \",line_number,column)\n",
    "    if heights[line_number,column] >= tree_height:\n",
    "      #print(\"neighbor  : \",heights[line_number,column])\n",
    "      return False\n",
    "\n",
    "  return visible\n",
    "\n",
    "  #if np.max(heights[:,line_number])>= tree_height:\n",
    "  #  return False"
   ]
  },
  {
   "cell_type": "code",
   "execution_count": null,
   "metadata": {
    "colab": {
     "base_uri": "https://localhost:8080/"
    },
    "executionInfo": {
     "elapsed": 140,
     "status": "ok",
     "timestamp": 1670624451439,
     "user": {
      "displayName": "Alexandre Desfossés",
      "userId": "05952546148031209930"
     },
     "user_tz": 300
    },
    "id": "Uc6DFc-kR0h6",
    "outputId": "5744b080-665f-4ec9-e8b1-6eeb96143c6a"
   },
   "outputs": [],
   "source": [
    "def visible_from_left(heights,line_number,column_number):\n",
    "\n",
    "  visible = True\n",
    "  tree_height = heights[line_number,column_number]\n",
    "\n",
    "  for column in range(0,column_number):\n",
    "    if heights[line_number,column] >= tree_height:\n",
    "      return False\n",
    "\n",
    "  return visible"
   ]
  },
  {
   "cell_type": "code",
   "execution_count": null,
   "metadata": {
    "colab": {
     "base_uri": "https://localhost:8080/"
    },
    "executionInfo": {
     "elapsed": 140,
     "status": "ok",
     "timestamp": 1670624451439,
     "user": {
      "displayName": "Alexandre Desfossés",
      "userId": "05952546148031209930"
     },
     "user_tz": 300
    },
    "id": "Uc6DFc-kR0h6",
    "outputId": "5744b080-665f-4ec9-e8b1-6eeb96143c6a"
   },
   "outputs": [],
   "source": [
    "def visible_from_top(heights,line_number,column_number):\n",
    "\n",
    "  visible = True\n",
    "  tree_height = heights[line_number,column_number]\n",
    "\n",
    "  for line in range(0,line_number):\n",
    "    if heights[line,column_number] >= tree_height:\n",
    "      return False\n",
    "\n",
    "  return visible"
   ]
  },
  {
   "cell_type": "code",
   "execution_count": null,
   "metadata": {
    "colab": {
     "base_uri": "https://localhost:8080/"
    },
    "executionInfo": {
     "elapsed": 140,
     "status": "ok",
     "timestamp": 1670624451439,
     "user": {
      "displayName": "Alexandre Desfossés",
      "userId": "05952546148031209930"
     },
     "user_tz": 300
    },
    "id": "Uc6DFc-kR0h6",
    "outputId": "5744b080-665f-4ec9-e8b1-6eeb96143c6a"
   },
   "outputs": [],
   "source": [
    "def visible_from_bottom(heights,line_number,column_number):\n",
    "\n",
    "  visible = True\n",
    "  tree_height = heights[line_number,column_number]\n",
    "\n",
    "  for line in range(line_number+1,forest_size):\n",
    "    if heights[line,column_number] >= tree_height:\n",
    "      return False\n",
    "  \n",
    "  return visible"
   ]
  },
  {
   "cell_type": "code",
   "execution_count": null,
   "metadata": {
    "colab": {
     "base_uri": "https://localhost:8080/"
    },
    "executionInfo": {
     "elapsed": 140,
     "status": "ok",
     "timestamp": 1670624451439,
     "user": {
      "displayName": "Alexandre Desfossés",
      "userId": "05952546148031209930"
     },
     "user_tz": 300
    },
    "id": "Uc6DFc-kR0h6",
    "outputId": "5744b080-665f-4ec9-e8b1-6eeb96143c6a"
   },
   "outputs": [],
   "source": [
    "def is_visible(heights,line_number,column_number):\n",
    "\n",
    "  if line_number == 0 or line_number == forest_size -1 or column_number == 0 or column_number == forest_size-1:\n",
    "    return True\n",
    "\n",
    "  from_right = visible_from_right(heights,line_number,column_number)\n",
    "  from_left = visible_from_left(heights,line_number,column_number)\n",
    "  from_bottom = visible_from_bottom(heights,line_number,column_number)\n",
    "  from_top = visible_from_top(heights,line_number,column_number)\n",
    "\n",
    "  return from_right or from_top or from_bottom or from_left"
   ]
  },
  {
   "cell_type": "code",
   "execution_count": null,
   "metadata": {
    "colab": {
     "base_uri": "https://localhost:8080/"
    },
    "executionInfo": {
     "elapsed": 140,
     "status": "ok",
     "timestamp": 1670624451439,
     "user": {
      "displayName": "Alexandre Desfossés",
      "userId": "05952546148031209930"
     },
     "user_tz": 300
    },
    "id": "Uc6DFc-kR0h6",
    "outputId": "5744b080-665f-4ec9-e8b1-6eeb96143c6a"
   },
   "outputs": [],
   "source": [
    "visibility = np.zeros((forest_size,forest_size))\n",
    "for line_number in range(forest_size):\n",
    "  for column_number in range(forest_size):\n",
    "\n",
    "    if is_visible(heights,line_number,column_number):\n",
    "      visibility[line_number,column_number] = 1\n",
    "      \n",
    "      number_of_visible_trees += 1\n",
    "\n",
    "print(number_of_visible_trees)\n",
    "print(visibility)\n",
    "print(heights)\n",
    "    \n",
    "    "
   ]
  },
  {
   "cell_type": "code",
   "execution_count": null,
   "metadata": {
    "colab": {
     "base_uri": "https://localhost:8080/"
    },
    "executionInfo": {
     "elapsed": 120,
     "status": "ok",
     "timestamp": 1670624252538,
     "user": {
      "displayName": "Alexandre Desfossés",
      "userId": "05952546148031209930"
     },
     "user_tz": 300
    },
    "id": "sUIkTvMasAfs",
    "outputId": "e6629286-b781-4d20-d20d-36b51cf72f31"
   },
   "outputs": [],
   "source": [
    "print(heights)\n",
    "test = visible_from_right(heights,2,3)\n",
    "print(test)"
   ]
  },
  {
   "cell_type": "markdown",
   "metadata": {
    "id": "tV1doCRNr0Tk"
   },
   "source": [
    "part 2"
   ]
  },
  {
   "cell_type": "code",
   "execution_count": null,
   "metadata": {},
   "outputs": [],
   "source": []
  },
  {
   "cell_type": "code",
   "execution_count": null,
   "metadata": {},
   "outputs": [],
   "source": []
  },
  {
   "cell_type": "code",
   "execution_count": null,
   "metadata": {
    "colab": {
     "base_uri": "https://localhost:8080/"
    },
    "executionInfo": {
     "elapsed": 140,
     "status": "ok",
     "timestamp": 1670624451439,
     "user": {
      "displayName": "Alexandre Desfossés",
      "userId": "05952546148031209930"
     },
     "user_tz": 300
    },
    "id": "Uc6DFc-kR0h6",
    "outputId": "5744b080-665f-4ec9-e8b1-6eeb96143c6a"
   },
   "outputs": [],
   "source": [
    "\n",
    "\n",
    "def view_distance_right(heights,line_number,column_number):\n",
    "  distance = 0\n",
    "  if column_number == len(heights) - 1:\n",
    "        return 0\n",
    "  \n",
    "  tree_height = heights[line_number,column_number]\n",
    " # print(\"current tree height : \",tree_height)\n",
    "  #print(\"range : \",(column_number+1,forest_size))\n",
    "  for column in range(column_number+1,forest_size):\n",
    "    #print(\"considering column :\",column)\n",
    "    #print(\"neighbor  line,column= \",line_number,column)\n",
    "    if heights[line_number,column] < tree_height:\n",
    "      #print(\"neighbor  : \",heights[line_number,column])\n",
    "      distance = distance + 1\n",
    "    else:\n",
    "        return distance + 1\n",
    "\n",
    "  return distance\n",
    "\n",
    "  #if np.max(heights[:,line_number])>= tree_height:\n",
    "  #  return False"
   ]
  },
  {
   "cell_type": "code",
   "execution_count": null,
   "metadata": {
    "colab": {
     "base_uri": "https://localhost:8080/"
    },
    "executionInfo": {
     "elapsed": 140,
     "status": "ok",
     "timestamp": 1670624451439,
     "user": {
      "displayName": "Alexandre Desfossés",
      "userId": "05952546148031209930"
     },
     "user_tz": 300
    },
    "id": "Uc6DFc-kR0h6",
    "outputId": "5744b080-665f-4ec9-e8b1-6eeb96143c6a"
   },
   "outputs": [],
   "source": [
    "def view_distance_left(heights,line_number,column_number):\n",
    "  distance = 0\n",
    "  if column_number == 0:\n",
    "        return 0\n",
    "  \n",
    "  tree_height = heights[line_number,column_number]\n",
    "\n",
    "  for column in range(column_number-1,-1,-1):\n",
    "    if heights[line_number,column] < tree_height:\n",
    "      distance = distance + 1\n",
    "    else:\n",
    "        return distance + 1\n",
    "\n",
    "  return distance"
   ]
  },
  {
   "cell_type": "code",
   "execution_count": null,
   "metadata": {
    "colab": {
     "base_uri": "https://localhost:8080/"
    },
    "executionInfo": {
     "elapsed": 140,
     "status": "ok",
     "timestamp": 1670624451439,
     "user": {
      "displayName": "Alexandre Desfossés",
      "userId": "05952546148031209930"
     },
     "user_tz": 300
    },
    "id": "Uc6DFc-kR0h6",
    "outputId": "5744b080-665f-4ec9-e8b1-6eeb96143c6a"
   },
   "outputs": [],
   "source": [
    "def view_distance_up(heights,line_number,column_number):\n",
    "  distance = 0\n",
    "  if line_number == 0:\n",
    "        return 0\n",
    "  \n",
    "  tree_height = heights[line_number,column_number]\n",
    "\n",
    "  for line in range(line_number-1,-1,-1):\n",
    "    if heights[line,column_number] < tree_height:\n",
    "      distance = distance + 1\n",
    "    else:\n",
    "        return distance + 1\n",
    "\n",
    "  return distance"
   ]
  },
  {
   "cell_type": "code",
   "execution_count": null,
   "metadata": {
    "colab": {
     "base_uri": "https://localhost:8080/"
    },
    "executionInfo": {
     "elapsed": 140,
     "status": "ok",
     "timestamp": 1670624451439,
     "user": {
      "displayName": "Alexandre Desfossés",
      "userId": "05952546148031209930"
     },
     "user_tz": 300
    },
    "id": "Uc6DFc-kR0h6",
    "outputId": "5744b080-665f-4ec9-e8b1-6eeb96143c6a"
   },
   "outputs": [],
   "source": [
    "def view_distance_down(heights,line_number,column_number):\n",
    "  distance = 0\n",
    "\n",
    "  if line_number == len(heights) -1:\n",
    "        return 0\n",
    "  \n",
    "  tree_height = heights[line_number,column_number]\n",
    "\n",
    "  for line in range(line_number+1,forest_size):\n",
    "    if heights[line,column_number] < tree_height:\n",
    "      distance = distance + 1    \n",
    "    else:\n",
    "        return distance +1\n",
    "  \n",
    "  return distance"
   ]
  },
  {
   "cell_type": "code",
   "execution_count": null,
   "metadata": {},
   "outputs": [],
   "source": [
    "def scenicScore(down,up,view_left,right):\n",
    "    return down*up*left*right"
   ]
  },
  {
   "cell_type": "code",
   "execution_count": null,
   "metadata": {},
   "outputs": [],
   "source": []
  },
  {
   "cell_type": "code",
   "execution_count": null,
   "metadata": {},
   "outputs": [],
   "source": [
    "best_scenic_score = 0\n",
    "\n",
    "scores = np.zeros((forest_size,forest_size))\n",
    "downs = np.zeros((forest_size,forest_size))\n",
    "lefts = np.zeros((forest_size,forest_size))\n",
    "rights = np.zeros((forest_size,forest_size))\n",
    "ups = np.zeros((forest_size,forest_size))\n",
    "\n",
    "for line_number in range(forest_size):\n",
    "  for column_number in range(forest_size):\n",
    "    \n",
    "    down = view_distance_down(heights,line_number,column_number)\n",
    "    up = view_distance_up(heights,line_number,column_number)\n",
    "    left = view_distance_left(heights,line_number,column_number)\n",
    "    right = view_distance_right(heights,line_number,column_number)\n",
    "\n",
    "    score = scenicScore(down,up,left,right)\n",
    "    \n",
    "    scores[line_number,column_number] = score\n",
    "    downs[line_number,column_number] = down\n",
    "    ups[line_number,column_number] = up\n",
    "    lefts[line_number,column_number] = left\n",
    "    rights[line_number,column_number] = right\n",
    "    \n",
    "    if score > best_scenic_score:\n",
    "        best_scenic_score = score\n",
    "\n",
    "\n",
    "        \n",
    "        \n",
    "print(\"best scenic score : \", best_scenic_score)"
   ]
  },
  {
   "cell_type": "code",
   "execution_count": null,
   "metadata": {},
   "outputs": [],
   "source": [
    "print(\"forest : \")\n",
    "print(heights)\n",
    "print(\"downs\")\n",
    "print(downs)\n",
    "print(\"ups\")\n",
    "print(ups)\n",
    "print(\"rights\")\n",
    "print(rights)\n",
    "print(\"lefts\")\n",
    "print(lefts)"
   ]
  },
  {
   "cell_type": "code",
   "execution_count": null,
   "metadata": {},
   "outputs": [],
   "source": []
  }
 ],
 "metadata": {
  "colab": {
   "authorship_tag": "ABX9TyMHqvswG/GzuKegJYqXLLt0",
   "provenance": []
  },
  "kernelspec": {
   "display_name": "Python 3",
   "language": "python",
   "name": "python3"
  },
  "language_info": {
   "codemirror_mode": {
    "name": "ipython",
    "version": 3
   },
   "file_extension": ".py",
   "mimetype": "text/x-python",
   "name": "python",
   "nbconvert_exporter": "python",
   "pygments_lexer": "ipython3",
   "version": "3.11.1 (tags/v3.11.1:a7a450f, Dec  6 2022, 19:58:39) [MSC v.1934 64 bit (AMD64)]"
  },
  "vscode": {
   "interpreter": {
    "hash": "5238573367df39f7286bb46f9ff5f08f63a01a80960060ce41e3c79b190280fa"
   }
  }
 },
 "nbformat": 4,
 "nbformat_minor": 4
}
